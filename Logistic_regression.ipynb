{
 "cells": [
  {
   "cell_type": "code",
   "execution_count": 1,
   "id": "a9b8c06c",
   "metadata": {},
   "outputs": [
    {
     "name": "stderr",
     "output_type": "stream",
     "text": [
      "/Applications/sage-9.3/local/lib/python3.9/site-packages/sklearn/utils/validation.py:63: DataConversionWarning: A column-vector y was passed when a 1d array was expected. Please change the shape of y to (n_samples, ), for example using ravel().\n",
      "  return f(*args, **kwargs)\n"
     ]
    },
    {
     "data": {
      "text/plain": [
       "0.8041395170563435"
      ]
     },
     "execution_count": 1,
     "metadata": {},
     "output_type": "execute_result"
    }
   ],
   "source": [
    "import pandas as pd\n",
    "from sklearn.linear_model import LogisticRegression\n",
    "\n",
    "#Input: Determine data.\n",
    "data_no= 1 #0: Safair on El Paso, 1: Safair on Houston, 2: Delta on El Paso, 3:Delta on Houston\n",
    "delay_type = 0 #0: Departure delay, 1 Airtime delay, 2: Arrival delay\n",
    "\n",
    "# Pre-coded from the raw data.\n",
    "name_of_files = ['FA_Elpaso','FA_IAH','ElPaso_Delta','IAH_Delta']\n",
    "nrows_data = [458,2609,1837,11273]\n",
    "Destination=[['DEN','ORD','LAS'],['DEN','RDU','AUS','MCO','LAS','PHL','HRL'],['ATL'],['ATL','SLC','DTW','LGA','MSP','JFK','LAX']]\n",
    "Delays = ['Dep_Delay15','Air_Delay15','Arv_Delay15']\n",
    "\n",
    "\n",
    "# Read the data\n",
    "data=pd.read_csv('./'+name_of_files[data_no]+'.csv', header=7, nrows=nrows_data[data_no])\n",
    "# Delete unused column\n",
    "dropname = ['Unnamed: '+str(idx)  for idx in range(17,30)]\n",
    "data.drop(dropname, axis=1, inplace=True)\n",
    "\n",
    "# Add new variables from the raw data.\n",
    "# Departure Delay: Actual departure time - Scheduled departure time.\n",
    "data['Dep_Delay'] = data['Actual departure time']-data['Scheduled departure time']\n",
    "# Airtime Delay: Actual elpased time - Scheduled elapsed time.\n",
    "data['Airtime_Delay'] = data['Actual elapsed time (Minutes)']-data['Scheduled elapsed time (Minutes)']\n",
    "# Arrival Delay: Taxi out time\n",
    "data['Arv_Delay'] = data['Taxi-Out time (Minutes)']\n",
    "\n",
    "\n",
    "# Hot coding for logistic regression\n",
    "# If delays are greater than 15 minutes, give 1. Otherwise, give 0.\n",
    "data.loc[(data['Dep_Delay'] >= 15), 'Dep_Delay15'] = 1\n",
    "data['Dep_Delay15'] = data['Dep_Delay15'].fillna(0)\n",
    "data.loc[(data['Airtime_Delay'] >= 15), 'Air_Delay15'] = 1\n",
    "data['Air_Delay15'] = data['Air_Delay15'].fillna(0)\n",
    "data.loc[(data['Arv_Delay'] >= 15), 'Arv_Delay15'] = 1\n",
    "data['Arv_Delay15'] = data['Arv_Delay15'].fillna(0)\n",
    "\n",
    "# Make a day of week for each day.\n",
    "data['Weekday']=pd.to_datetime(data['Date (MM/DD/YYYY)']).dt.dayofweek\n",
    "\n",
    "# Hot coding for 24 hours\n",
    "#( 03am-09am,9am-3pm,3pm-9pm,9pm-03am as zone 1,2,3,4), \n",
    "data.loc[((data['Scheduled departure time'] >= 300) & (data['Scheduled departure time'] < 900)), 'Dep_Timezone'] = 1\n",
    "data.loc[((data['Scheduled departure time'] >= 900) & (data['Scheduled departure time'] < 1500)), 'Dep_Timezone'] = 2\n",
    "data.loc[((data['Scheduled departure time'] >= 1500)& (data['Scheduled departure time'] < 2100)), 'Dep_Timezone'] = 3\n",
    "data['Dep_Timezone'] = data['Dep_Timezone'].fillna(4)\n",
    "\n",
    "# Hot coding for destination\n",
    "for item in Destination[data_no]:\n",
    "    data.loc[(data['Destination Airport'] == item), 'Dest_'+item] = 1\n",
    "    data['Dest_'+item] = data['Dest_'+item].fillna(0)\n",
    "\n",
    "# Second thing: Prediction model (Logistic Regression)\n",
    "# x : \n",
    "#(1) The day of week, \n",
    "#(2) Scheduled departure time( Classify it as 03am-09am,9am-3pm,3pm-9pm,9pm-03am as 1,2,3,4), \n",
    "#(3) Destinations (hot coded as 0,1 for each destination)\n",
    "# y: delayed or not (15 minutes or more delay = 1, otherwise 0)\n",
    "\n",
    "\n",
    "#Logistic regression\n",
    "X = data[['Weekday','Dep_Timezone']+['Dest_'+item for item in Destination[data_no]]].copy()\n",
    "y = data[[Delays[delay_type]]].copy()\n",
    "clf = LogisticRegression(random_state=0).fit(X, y)\n",
    "\n",
    "\n",
    "# finalized results: Score of the logistic regression\n",
    "clf.score(X,y)\n",
    "\n",
    "# Implication\n",
    "# For airline: suggest better schedule or time for cushion they can use in a busy time.\n",
    "# For customer: suggest a prediction they can use when they reserve a flight.\n",
    "\n"
   ]
  }
 ],
 "metadata": {
  "kernelspec": {
   "display_name": "Python 3 (ipykernel)",
   "language": "python",
   "name": "python3"
  },
  "language_info": {
   "codemirror_mode": {
    "name": "ipython",
    "version": 3
   },
   "file_extension": ".py",
   "mimetype": "text/x-python",
   "name": "python",
   "nbconvert_exporter": "python",
   "pygments_lexer": "ipython3",
   "version": "3.9.2"
  }
 },
 "nbformat": 4,
 "nbformat_minor": 5
}
